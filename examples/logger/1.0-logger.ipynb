{
 "cells": [
  {
   "cell_type": "code",
   "execution_count": 1,
   "id": "1c3247f9",
   "metadata": {},
   "outputs": [],
   "source": [
    "%load_ext autoreload\n",
    "%autoreload 2"
   ]
  },
  {
   "cell_type": "code",
   "execution_count": 2,
   "id": "8aae186b",
   "metadata": {},
   "outputs": [],
   "source": [
    "from loguru import logger\n",
    "from utilities import LogManager"
   ]
  },
  {
   "cell_type": "markdown",
   "id": "bc1a3e03",
   "metadata": {},
   "source": [
    "### Without using config.yaml"
   ]
  },
  {
   "cell_type": "markdown",
   "id": "09a6846d",
   "metadata": {},
   "source": [
    "If config_file is undefined, class default parameters will be loaded."
   ]
  },
  {
   "cell_type": "markdown",
   "id": "02f8ac43",
   "metadata": {},
   "source": [
    "The following is acceptable."
   ]
  },
  {
   "cell_type": "code",
   "execution_count": 47,
   "id": "40163301",
   "metadata": {},
   "outputs": [
    {
     "name": "stdout",
     "output_type": "stream",
     "text": [
      "Copy enabled (default behavior)\n",
      "Config file not provided, initializing logger with class default config.\n",
      "Signal handlers registered\n"
     ]
    }
   ],
   "source": [
    "lm = LogManager()"
   ]
  },
  {
   "cell_type": "markdown",
   "id": "8e0c331a",
   "metadata": {},
   "source": [
    "Get LogManager's config"
   ]
  },
  {
   "cell_type": "code",
   "execution_count": 48,
   "id": "91b88ab8",
   "metadata": {},
   "outputs": [
    {
     "data": {
      "text/plain": [
       "{'formats': {'simple': '{time:YYYY-MM-DD HH:mm:ss} | {level: <8} | {extra[logger_name]} | {file: <16} | {function} : {line} - {message}',\n",
       "  'console': ' <green>{time:YYYY-MM-DD HH:mm:ss}</green> | <level>{level: <8}</level> | <red>{extra[logger_name]}</red> | <cyan>{file: <16} | {function}</cyan> : {line} - <white>{message}</white>'},\n",
       " 'handlers': {'handler_file': {'sink': './logs/.logs',\n",
       "   'format': '{time:YYYY-MM-DD HH:mm:ss} | {level: <8} | {extra[logger_name]} | {file: <16} | {function} : {line} - {message}',\n",
       "   'level': 'DEBUG',\n",
       "   'filter': <function utilities.logger._logging_manager.LoggingManager._make_handler_filter.<locals>.filter_func(record)>},\n",
       "  'handler_console': {'sink': <ipykernel.iostream.OutStream at 0x21567499f60>,\n",
       "   'format': ' <green>{time:YYYY-MM-DD HH:mm:ss}</green> | <level>{level: <8}</level> | <red>{extra[logger_name]}</red> | <cyan>{file: <16} | {function}</cyan> : {line} - <white>{message}</white>',\n",
       "   'level': 'DEBUG',\n",
       "   'filter': <function utilities.logger._logging_manager.LoggingManager._make_handler_filter.<locals>.filter_func(record)>}},\n",
       " 'loggers': {'default_task': [{'handler': 'handler_file', 'level': 'DEBUG'},\n",
       "   {'handler': 'handler_console', 'level': 'DEBUG'}]},\n",
       " 'copy_manager': {'test_copy_1': {'path_patterns': './logs/**',\n",
       "   'copy_destination': './logs_copy/',\n",
       "   'copy_interval': 300,\n",
       "   'create_dest_dirs': True,\n",
       "   'preserve_structure': False,\n",
       "   'max_retries': 3,\n",
       "   'retry_delay': 5}}}"
      ]
     },
     "execution_count": 48,
     "metadata": {},
     "output_type": "execute_result"
    }
   ],
   "source": [
    "lm.config"
   ]
  },
  {
   "cell_type": "markdown",
   "id": "dc2151eb",
   "metadata": {},
   "source": [
    "Example logging calls"
   ]
  },
  {
   "cell_type": "code",
   "execution_count": 49,
   "id": "7ff3ec2a",
   "metadata": {},
   "outputs": [
    {
     "name": "stdout",
     "output_type": "stream",
     "text": [
      " \u001b[32m2025-09-03 22:19:10\u001b[0m | \u001b[34m\u001b[1mDEBUG   \u001b[0m | \u001b[31mdefault_task\u001b[0m | \u001b[36m4292057848.py    | <module>\u001b[0m : 3 - \u001b[37msome debug message\u001b[0m\n",
      " \u001b[32m2025-09-03 22:19:10\u001b[0m | \u001b[1mINFO    \u001b[0m | \u001b[31mdefault_task\u001b[0m | \u001b[36m4292057848.py    | <module>\u001b[0m : 4 - \u001b[37msome info message\u001b[0m\n",
      " \u001b[32m2025-09-03 22:19:10\u001b[0m | \u001b[33m\u001b[1mWARNING \u001b[0m | \u001b[31mdefault_task\u001b[0m | \u001b[36m4292057848.py    | <module>\u001b[0m : 5 - \u001b[37msome warning message\u001b[0m\n",
      " \u001b[32m2025-09-03 22:19:10\u001b[0m | \u001b[31m\u001b[1mERROR   \u001b[0m | \u001b[31mdefault_task\u001b[0m | \u001b[36m4292057848.py    | <module>\u001b[0m : 6 - \u001b[37msome error message\u001b[0m\n",
      " \u001b[32m2025-09-03 22:19:10\u001b[0m | \u001b[32m\u001b[1mSUCCESS \u001b[0m | \u001b[31mdefault_task\u001b[0m | \u001b[36m4292057848.py    | <module>\u001b[0m : 7 - \u001b[37msome success message\u001b[0m\n"
     ]
    }
   ],
   "source": [
    "# Note: if LogManager(), the default logger_name is \"default_task\".\n",
    "logger_main = lm.get_logger(\"default_task\")\n",
    "logger_main.debug(\"some debug message\")\n",
    "logger_main.info(\"some info message\")\n",
    "logger_main.warning(\"some warning message\")\n",
    "logger_main.error(\"some error message\")\n",
    "logger_main.success(\"some success message\")"
   ]
  },
  {
   "cell_type": "markdown",
   "id": "d9a4d8cb",
   "metadata": {},
   "source": [
    "The following is also acceptable."
   ]
  },
  {
   "cell_type": "code",
   "execution_count": null,
   "id": "ceab41f4",
   "metadata": {},
   "outputs": [],
   "source": [
    "lm = LogManager(timezone = \"Antarctica/South_Pole\")"
   ]
  },
  {
   "cell_type": "markdown",
   "id": "f7e52417",
   "metadata": {},
   "source": [
    "Example logging calls:"
   ]
  },
  {
   "cell_type": "code",
   "execution_count": null,
   "id": "3577349a",
   "metadata": {},
   "outputs": [],
   "source": [
    "logger_main = lm.get_logger(\"default_task\")\n",
    "logger_main.debug(\"some debug message\")\n",
    "logger_main.info(\"some info message\")\n",
    "logger_main.warning(\"some warning message\")\n",
    "logger_main.error(\"some error message\")\n",
    "logger_main.success(\"some success message\")"
   ]
  },
  {
   "cell_type": "markdown",
   "id": "bf1aab54",
   "metadata": {},
   "source": [
    "#### Note: The following will raise an assertion error:"
   ]
  },
  {
   "cell_type": "code",
   "execution_count": null,
   "id": "a591d37a",
   "metadata": {},
   "outputs": [],
   "source": [
    "logger_main = lm.get_logger(\"new_task\")"
   ]
  },
  {
   "cell_type": "markdown",
   "id": "a6ca8398",
   "metadata": {},
   "source": [
    "Run `lm.add_logger` before getting logger for this new task"
   ]
  },
  {
   "cell_type": "markdown",
   "id": "74101c78",
   "metadata": {},
   "source": [
    "### Using config.yaml"
   ]
  },
  {
   "cell_type": "code",
   "execution_count": 6,
   "id": "2b2489c4",
   "metadata": {},
   "outputs": [
    {
     "name": "stdout",
     "output_type": "stream",
     "text": [
      "Copy enabled (default behavior)\n",
      "Signal handlers registered\n"
     ]
    }
   ],
   "source": [
    "config_file = \"./logger_config.yaml\"\n",
    "lm = LogManager(config_file)"
   ]
  },
  {
   "cell_type": "markdown",
   "id": "55ea7c98",
   "metadata": {},
   "source": [
    "Get Loggers"
   ]
  },
  {
   "cell_type": "code",
   "execution_count": 7,
   "id": "146c3849",
   "metadata": {},
   "outputs": [],
   "source": [
    "logger_A = lm.get_logger(\"logger_a\")\n",
    "logger_B = lm.get_logger(\"logger_b\")"
   ]
  },
  {
   "cell_type": "code",
   "execution_count": 8,
   "id": "1194fde9",
   "metadata": {},
   "outputs": [
    {
     "name": "stdout",
     "output_type": "stream",
     "text": [
      " \u001b[32m2025-09-03 21:34:09\u001b[0m | \u001b[1mINFO    \u001b[0m | \u001b[31mlogger_a\u001b[0m | \u001b[36m3623765976.py    | <module>\u001b[0m : 2 - \u001b[37mshould only appear in console\u001b[0m\n",
      " \u001b[32m2025-09-03 21:34:09\u001b[0m | \u001b[41m\u001b[1mCRITICAL\u001b[0m | \u001b[31mlogger_a\u001b[0m | \u001b[36m3623765976.py    | <module>\u001b[0m : 3 - \u001b[37mshould appear in both console and file\u001b[0m\n",
      " \u001b[32m2025-09-03 21:34:09\u001b[0m | \u001b[41m\u001b[1mCRITICAL\u001b[0m | \u001b[31mlogger_b\u001b[0m | \u001b[36m3623765976.py    | <module>\u001b[0m : 5 - \u001b[37mshould also appear in console, but for another task\u001b[0m\n"
     ]
    }
   ],
   "source": [
    "# Example use\n",
    "logger_A.info(\"should only appear in console\")\n",
    "logger_A.critical(\"should appear in both console and file\")\n",
    "logger_B.debug(\"this should not appear since level for handler_console config is set to INFO\")\n",
    "logger_B.critical(\"should also appear in console, but for another task\")"
   ]
  },
  {
   "cell_type": "markdown",
   "id": "c6fb86ef",
   "metadata": {},
   "source": [
    "Assertion error is raised if an undefined logger is called."
   ]
  },
  {
   "cell_type": "code",
   "execution_count": null,
   "id": "1609f27d",
   "metadata": {},
   "outputs": [],
   "source": [
    "logger_c = lm.get_logger(\"logger_c\")  # this should raise an assertion error, logger does not exist"
   ]
  },
  {
   "cell_type": "markdown",
   "id": "db843de6",
   "metadata": {},
   "source": [
    "Add new handler and logger"
   ]
  },
  {
   "cell_type": "markdown",
   "id": "fd0cd03f",
   "metadata": {},
   "source": [
    "The following format (simple) is accepted as long as it's defined in config file under 'formats'"
   ]
  },
  {
   "cell_type": "code",
   "execution_count": 10,
   "id": "39c0b33f",
   "metadata": {},
   "outputs": [],
   "source": [
    "lm.add_handler(\n",
    "    \"handler_console_simple\",\n",
    "    {\n",
    "        \"sink\": \"sys.stdout\",\n",
    "        \"format\": \"simple\",\n",
    "        \"level\": \"info\"\n",
    "    }\n",
    ")"
   ]
  },
  {
   "cell_type": "markdown",
   "id": "2eec3662",
   "metadata": {},
   "source": [
    "Note that error will not be raised if format is not found in the config; only warning will be shown."
   ]
  },
  {
   "cell_type": "code",
   "execution_count": 11,
   "id": "f7ebc7e2",
   "metadata": {},
   "outputs": [
    {
     "name": "stdout",
     "output_type": "stream",
     "text": [
      " ⚠️ The format referenced by handler 'handler_xxx' is not defined in the 'formats' section of the config file. Using the format as is: \n",
      "\t simpleeee \n",
      "\n"
     ]
    }
   ],
   "source": [
    "lm.add_handler(\n",
    "    \"handler_xxx\",\n",
    "    {\n",
    "        \"sink\": \"sys.stdout\",\n",
    "        \"format\": \"simpleeee\",\n",
    "        \"level\": \"info\"\n",
    "    }\n",
    ")"
   ]
  },
  {
   "cell_type": "markdown",
   "id": "9ebe055d",
   "metadata": {},
   "source": [
    "Because it may be a valid custom format:"
   ]
  },
  {
   "cell_type": "code",
   "execution_count": 12,
   "id": "79fa8d3f",
   "metadata": {},
   "outputs": [
    {
     "name": "stdout",
     "output_type": "stream",
     "text": [
      " ⚠️ The format referenced by handler 'handler_console_fire' is not defined in the 'formats' section of the config file. Using the format as is: \n",
      "\t 🔥{time:YYYY-MM-DD HH:mm:ss} | {level: <8} | {extra[logger_name]} | {file: <16} | {function} : {line} - {message} \n",
      "\n"
     ]
    }
   ],
   "source": [
    "lm.add_handler(\n",
    "    \"handler_console_fire\",\n",
    "    {\n",
    "        \"sink\": \"sys.stdout\",\n",
    "        \"format\": \"🔥{time:YYYY-MM-DD HH:mm:ss} | {level: <8} | {extra[logger_name]} | {file: <16} | {function} : {line} - {message}\",\n",
    "        \"level\": \"info\",\n",
    "    }\n",
    ")"
   ]
  },
  {
   "cell_type": "code",
   "execution_count": 13,
   "id": "0997078b",
   "metadata": {},
   "outputs": [],
   "source": [
    "lm.add_logger(\"logger_c\", [{\"handler\": \"handler_console_fire\", \"level\": \"DEBUG\"}])"
   ]
  },
  {
   "cell_type": "code",
   "execution_count": 14,
   "id": "3f557312",
   "metadata": {},
   "outputs": [
    {
     "name": "stdout",
     "output_type": "stream",
     "text": [
      "🔥2025-09-03 21:39:50 | INFO     | logger_c | 2748549182.py    | <module> : 6 - this should print\n",
      "🔥2025-09-03 21:39:50 | ERROR    | logger_c | 2748549182.py    | <module> : 7 - this should print too\n"
     ]
    }
   ],
   "source": [
    "logger_C = lm.get_logger(\"logger_c\")\n",
    "# Note: the effective logging level is the higher of the handler's and logger's levels.\n",
    "# Therefore, DEBUG messages will not be logged because the handler's level is set to INFO.\n",
    "\n",
    "logger_C.debug(\"this should not print since handler_console_fire is set to INFO\")  # Will not be logged\n",
    "logger_C.info(\"this should print\")   # Will be logged\n",
    "logger_C.error(\"this should print too\")"
   ]
  },
  {
   "cell_type": "markdown",
   "id": "fdcf5995",
   "metadata": {},
   "source": [
    "Update handler"
   ]
  },
  {
   "cell_type": "code",
   "execution_count": 15,
   "id": "4ca8e7c6",
   "metadata": {},
   "outputs": [
    {
     "name": "stdout",
     "output_type": "stream",
     "text": [
      " ⚠️ The format referenced by handler 'handler_console_fire' is not defined in the 'formats' section of the config file. Using the format as is: \n",
      "\t 🧯{time:YYYY-MM-DD HH:mm:ss} | {level: <8} | {extra[logger_name]} | {file: <16} | {function} : {line} - {message} \n",
      "\n"
     ]
    }
   ],
   "source": [
    "lm.update_handler(\n",
    "    \"handler_console_fire\",\n",
    "    {\n",
    "        \"sink\": \"sys.stdout\",\n",
    "        \"format\": \"🧯{time:YYYY-MM-DD HH:mm:ss} | {level: <8} | {extra[logger_name]} | {file: <16} | {function} : {line} - {message}\",\n",
    "        \"level\": \"debug\",\n",
    "    }\n",
    ")"
   ]
  },
  {
   "cell_type": "code",
   "execution_count": 16,
   "id": "ee08c000",
   "metadata": {},
   "outputs": [
    {
     "name": "stdout",
     "output_type": "stream",
     "text": [
      "🧯2025-09-03 21:41:01 | DEBUG    | logger_c | 1071904596.py    | <module> : 1 - this should print now since handler and logger config is set to DEBUG\n",
      "🧯2025-09-03 21:41:01 | INFO     | logger_c | 1071904596.py    | <module> : 2 - this should print\n",
      "🧯2025-09-03 21:41:01 | ERROR    | logger_c | 1071904596.py    | <module> : 3 - this should print too\n"
     ]
    }
   ],
   "source": [
    "logger_C.debug(\"this should print now since handler and logger config is set to DEBUG\")  # Will be logged\n",
    "logger_C.info(\"this should print\")\n",
    "logger_C.error(\"this should print too\")"
   ]
  },
  {
   "cell_type": "markdown",
   "id": "05997f66",
   "metadata": {},
   "source": [
    "Update logger"
   ]
  },
  {
   "cell_type": "code",
   "execution_count": 18,
   "id": "7ab4e828",
   "metadata": {},
   "outputs": [],
   "source": [
    "lm.update_logger(\"logger_c\", [{\"handler\": \"handler_console_fire\", \"level\": \"ERROR\"}, {\"handler\": \"handler_console\", \"level\": \"ERROR\"}])"
   ]
  },
  {
   "cell_type": "code",
   "execution_count": 19,
   "id": "ec4d98cf",
   "metadata": {},
   "outputs": [
    {
     "name": "stdout",
     "output_type": "stream",
     "text": [
      " \u001b[32m2025-09-03 21:42:38\u001b[0m | \u001b[31m\u001b[1mERROR   \u001b[0m | \u001b[31mlogger_c\u001b[0m | \u001b[36m3130521273.py    | <module>\u001b[0m : 2 - \u001b[37mthis should print twice for logger_c, 1 for handler_console_fire and the other from newly added handler_console\u001b[0m\n",
      "🧯2025-09-03 21:42:38 | ERROR    | logger_c | 3130521273.py    | <module> : 2 - this should print twice for logger_c, 1 for handler_console_fire and the other from newly added handler_console\n"
     ]
    }
   ],
   "source": [
    "logger_C.debug(\"this should print since both logger config is set to ERROR\")\n",
    "logger_C.error(\"this should print twice for logger_c, 1 for handler_console_fire and the other from newly added handler_console\")"
   ]
  },
  {
   "cell_type": "markdown",
   "id": "149e5588",
   "metadata": {},
   "source": [
    "Remove logger"
   ]
  },
  {
   "cell_type": "code",
   "execution_count": 20,
   "id": "c08908f3",
   "metadata": {},
   "outputs": [
    {
     "name": "stdout",
     "output_type": "stream",
     "text": [
      " \u001b[32m2025-09-03 21:43:46\u001b[0m | \u001b[1mINFO    \u001b[0m | \u001b[31mlogger_a\u001b[0m | \u001b[36m2861226126.py    | <module>\u001b[0m : 5 - \u001b[37monly this should appear on the console\u001b[0m\n"
     ]
    }
   ],
   "source": [
    "lm.remove_logger(\"logger_c\")\n",
    "logger_C.debug(\"this should NOT appear on the console\")\n",
    "logger_C.info(\"this should NOT appear on the console\")\n",
    "logger_C.error(\"this should NOT appear on the console\")\n",
    "logger_A.info(\"only this should appear on the console\")"
   ]
  },
  {
   "cell_type": "markdown",
   "id": "01564da1",
   "metadata": {},
   "source": [
    "Remove handler"
   ]
  },
  {
   "cell_type": "code",
   "execution_count": 21,
   "id": "ddfe1cf5",
   "metadata": {},
   "outputs": [],
   "source": [
    "lm.remove_handler(\"handler_console\")\n",
    "logger_A.debug(\"this should NOT appear on the FILE.\")\n",
    "logger_A.info(\"this should NOT appear on the FILE.\")\n",
    "logger_A.error(\"this should appear on the FILE.\")"
   ]
  },
  {
   "cell_type": "markdown",
   "id": "5b476508",
   "metadata": {},
   "source": [
    "### Copying log files"
   ]
  },
  {
   "cell_type": "code",
   "execution_count": 50,
   "id": "12afbe52",
   "metadata": {},
   "outputs": [
    {
     "name": "stdout",
     "output_type": "stream",
     "text": [
      "Copy enabled (default behavior)\n",
      "Config file not provided, initializing logger with class default config.\n",
      "Signal handlers registered\n"
     ]
    }
   ],
   "source": [
    "lm = LogManager()"
   ]
  },
  {
   "cell_type": "code",
   "execution_count": null,
   "id": "54a51383",
   "metadata": {},
   "outputs": [
    {
     "name": "stdout",
     "output_type": "stream",
     "text": [
      " ⚠️ The format referenced by handler 'handler_copy_test_1' is not defined in the 'formats' section of the config file. Using the format as is: \n",
      "\t {time} {level} {message} \n",
      "\n",
      " ⚠️ The format referenced by handler 'handler_copy_test_2' is not defined in the 'formats' section of the config file. Using the format as is: \n",
      "\t {level} {message} \n",
      "\n"
     ]
    }
   ],
   "source": [
    "lm.add_handler(\n",
    "    \"handler_copy_test_1\",\n",
    "    {\n",
    "        \"sink\": \"./logs/copy_test_1.log\",\n",
    "        \"format\": \"{time} {level} {message}\",\n",
    "        \"level\": \"DEBUG\"\n",
    "    }\n",
    ")\n",
    "\n",
    "lm.add_handler(\n",
    "    \"handler_copy_test_2\",\n",
    "    {\n",
    "        \"sink\": \"./logs/subfolder/copy_test_2.log\",\n",
    "        \"format\": \"{level} {message}\",\n",
    "        \"level\": \"DEBUG\"\n",
    "    }\n",
    ")\n",
    "\n",
    "lm.add_logger(\"logger_copy_test_1\", [{\"handler\": \"handler_copy_test_1\", \"level\": \"DEBUG\"}])\n",
    "lm.add_logger(\"logger_copy_test_2\", [{\"handler\": \"handler_copy_test_2\", \"level\": \"DEBUG\"}])\n",
    "\n",
    "logger_1 = lm.get_logger(\"logger_copy_test_1\")\n",
    "logger_2 = lm.get_logger(\"logger_copy_test_2\")"
   ]
  },
  {
   "cell_type": "markdown",
   "id": "ff430f90",
   "metadata": {},
   "source": [
    "#### With `preserve_structure=False`"
   ]
  },
  {
   "cell_type": "code",
   "execution_count": 52,
   "id": "ea378225",
   "metadata": {},
   "outputs": [],
   "source": [
    "logger_1.info(f\"Testing copy for logger 1 - NOT preserving structure\")\n",
    "logger_2.info(f\"Testing copy for logger 2 - NOT preserving structure\")"
   ]
  },
  {
   "cell_type": "code",
   "execution_count": 53,
   "id": "b0a6a7c3",
   "metadata": {},
   "outputs": [
    {
     "name": "stdout",
     "output_type": "stream",
     "text": [
      "Copy worker 'test_copy' started.Started copy operation 'test_copy' with 5s interval.\n",
      "\n",
      "\n",
      "Copy 'test_copy' found 4 files to copy.\n"
     ]
    },
    {
     "name": "stdout",
     "output_type": "stream",
     "text": [
      "Successfully copied ./logs\\copy_test_1.log -> ./logs_copied/copy_test_1.log\n",
      "Successfully copied ./logs\\test.log -> ./logs_copied/test.log\n",
      "Successfully copied ./logs\\subfolder\\test2.log -> ./logs_copied/test2.log\n",
      "Successfully copied ./logs\\copy_test_2.log -> ./logs_copied/copy_test_2.log\n",
      "Copy completed: 4 successful, 0 failed\n",
      "Copy 'test_copy' found 4 files to copy.\n",
      "Successfully copied ./logs\\copy_test_1.log -> ./logs_copied/copy_test_1.log\n",
      "Successfully copied ./logs\\test.log -> ./logs_copied/test.log\n",
      "Successfully copied ./logs\\subfolder\\test2.log -> ./logs_copied/test2.log\n",
      "Successfully copied ./logs\\copy_test_2.log -> ./logs_copied/copy_test_2.log\n",
      "Copy completed: 4 successful, 0 failed\n",
      "Copy 'test_copy' found 4 files to copy.\n",
      "Successfully copied ./logs\\copy_test_1.log -> ./logs_copied/copy_test_1.log\n",
      "Successfully copied ./logs\\test.log -> ./logs_copied/test.log\n",
      "Successfully copied ./logs\\subfolder\\test2.log -> ./logs_copied/test2.log\n",
      "Successfully copied ./logs\\copy_test_2.log -> ./logs_copied/copy_test_2.log\n",
      "Copy completed: 4 successful, 0 failed\n",
      "Copy 'test_copy' found 4 files to copy.\n",
      "Successfully copied ./logs\\copy_test_1.log -> ./logs_copied/copy_test_1.log\n",
      "Successfully copied ./logs\\test.log -> ./logs_copied/test.log\n",
      "Successfully copied ./logs\\subfolder\\test2.log -> ./logs_copied/test2.log\n",
      "Successfully copied ./logs\\copy_test_2.log -> ./logs_copied/copy_test_2.log\n",
      "Copy completed: 4 successful, 0 failed\n",
      "Copy 'test_copy' found 4 files to copy.\n",
      "Successfully copied ./logs\\copy_test_1.log -> ./logs_copied/copy_test_1.log\n",
      "Successfully copied ./logs\\test.log -> ./logs_copied/test.log\n",
      "Successfully copied ./logs\\subfolder\\test2.log -> ./logs_copied/test2.log\n",
      "Successfully copied ./logs\\copy_test_2.log -> ./logs_copied/copy_test_2.log\n",
      "Copy completed: 4 successful, 0 failed\n",
      "Copy 'test_copy' found 4 files to copy.\n",
      "Successfully copied ./logs\\copy_test_1.log -> ./logs_copied/copy_test_1.log\n",
      "Successfully copied ./logs\\test.log -> ./logs_copied/test.log\n",
      "Successfully copied ./logs\\subfolder\\test2.log -> ./logs_copied/test2.log\n",
      "Successfully copied ./logs\\copy_test_2.log -> ./logs_copied/copy_test_2.log\n",
      "Copy completed: 4 successful, 0 failed\n",
      "Copy 'test_copy' found 4 files to copy.\n",
      "Successfully copied ./logs\\copy_test_1.log -> ./logs_copied/copy_test_1.log\n",
      "Successfully copied ./logs\\test.log -> ./logs_copied/test.log\n",
      "Successfully copied ./logs\\subfolder\\test2.log -> ./logs_copied/test2.log\n",
      "Successfully copied ./logs\\copy_test_2.log -> ./logs_copied/copy_test_2.log\n",
      "Copy completed: 4 successful, 0 failed\n",
      "Copy 'test_copy' found 4 files to copy.\n",
      "Successfully copied ./logs\\copy_test_1.log -> ./logs_copied/copy_test_1.log\n",
      "Successfully copied ./logs\\test.log -> ./logs_copied/test.log\n",
      "Successfully copied ./logs\\subfolder\\test2.log -> ./logs_copied/test2.log\n",
      "Successfully copied ./logs\\copy_test_2.log -> ./logs_copied/copy_test_2.log\n",
      "Copy completed: 4 successful, 0 failed\n",
      "Copy worker 'test_copy' stopped\n"
     ]
    }
   ],
   "source": [
    "lm.start_copy(\n",
    "    copy_name = \"test_copy\",\n",
    "    path_patterns=[f\"./logs/**\"],\n",
    "    copy_destination=\"./logs_copied\",\n",
    "    copy_interval=5,\n",
    "    create_dest_dirs=True,\n",
    "    preserve_structure=False,\n",
    "    max_retries=3,\n",
    "    retry_delay=5,\n",
    ")"
   ]
  },
  {
   "cell_type": "markdown",
   "id": "08f64119",
   "metadata": {},
   "source": [
    "An error will be raised if the copy_name already exists"
   ]
  },
  {
   "cell_type": "code",
   "execution_count": null,
   "id": "3b98e38b",
   "metadata": {},
   "outputs": [],
   "source": [
    "lm.start_copy(\n",
    "    copy_name = \"test_copy\",\n",
    "    path_patterns=[f\"./logs/**\"],\n",
    "    copy_destination=\"./logs_copied\",\n",
    "    copy_interval=5,\n",
    "    create_dest_dirs=True,\n",
    "    preserve_structure=False,\n",
    "    max_retries=3,\n",
    "    retry_delay=5,\n",
    ")"
   ]
  },
  {
   "cell_type": "code",
   "execution_count": 57,
   "id": "140d7cd4",
   "metadata": {},
   "outputs": [
    {
     "name": "stdout",
     "output_type": "stream",
     "text": [
      "Stopped copy operation 'test_copy'\n"
     ]
    },
    {
     "data": {
      "text/plain": [
       "True"
      ]
     },
     "execution_count": 57,
     "metadata": {},
     "output_type": "execute_result"
    }
   ],
   "source": [
    "lm.stop_copy(\n",
    "    copy_name = \"test_copy\",\n",
    "    timeout=60\n",
    ")"
   ]
  },
  {
   "cell_type": "markdown",
   "id": "9577dd52",
   "metadata": {},
   "source": [
    "#### With `preserve_structure=True`"
   ]
  },
  {
   "cell_type": "code",
   "execution_count": 55,
   "id": "7d867384",
   "metadata": {},
   "outputs": [],
   "source": [
    "logger_1.info(f\"Testing copy for logger 1 - preserving structure\")\n",
    "logger_2.info(f\"Testing copy for logger 2 - preserving structure\")"
   ]
  },
  {
   "cell_type": "code",
   "execution_count": null,
   "id": "313a89dd",
   "metadata": {},
   "outputs": [
    {
     "name": "stdout",
     "output_type": "stream",
     "text": [
      "Copy worker 'test_copy' started.Started copy operation 'test_copy' with 5s interval.\n",
      "\n",
      "\n",
      "Copy 'test_copy' found 4 files to copy."
     ]
    },
    {
     "name": "stdout",
     "output_type": "stream",
     "text": [
      "\n",
      "Successfully copied ./logs\\copy_test_1.log -> ./logs_copied_preserved/copy_test_1.log\n",
      "Successfully copied ./logs\\test.log -> ./logs_copied_preserved/test.log\n",
      "Successfully copied ./logs\\subfolder\\test2.log -> ./logs_copied_preserved/subfolder/test2.log\n",
      "Successfully copied ./logs\\copy_test_2.log -> ./logs_copied_preserved/copy_test_2.log\n",
      "Copy completed: 4 successful, 0 failed\n",
      "Copy 'test_copy' found 4 files to copy.\n",
      "Successfully copied ./logs\\copy_test_1.log -> ./logs_copied_preserved/copy_test_1.log\n",
      "Successfully copied ./logs\\test.log -> ./logs_copied_preserved/test.log\n",
      "Successfully copied ./logs\\subfolder\\test2.log -> ./logs_copied_preserved/subfolder/test2.log\n",
      "Successfully copied ./logs\\copy_test_2.log -> ./logs_copied_preserved/copy_test_2.log\n",
      "Copy completed: 4 successful, 0 failed\n",
      "Copy worker 'test_copy' stopped\n"
     ]
    }
   ],
   "source": [
    "root_dir = \"./logs\"\n",
    "\n",
    "lm.start_copy(\n",
    "    copy_name = \"test_copy_preserve\",\n",
    "    path_patterns=[f\"{root_dir}/**\"],\n",
    "    copy_destination=\"./logs_copied_preserved\",\n",
    "    root_dir=root_dir,\n",
    "    copy_interval=5,\n",
    "    create_dest_dirs=True,\n",
    "    preserve_structure=True,\n",
    "    max_retries=3,\n",
    "    retry_delay=5,\n",
    ")"
   ]
  },
  {
   "cell_type": "markdown",
   "id": "6374b9f0",
   "metadata": {},
   "source": [
    "#### Other methods/functions"
   ]
  },
  {
   "cell_type": "markdown",
   "id": "832e7008",
   "metadata": {},
   "source": [
    "List active copy operations"
   ]
  },
  {
   "cell_type": "code",
   "execution_count": 58,
   "id": "135d12f9",
   "metadata": {},
   "outputs": [
    {
     "data": {
      "text/plain": [
       "[]"
      ]
     },
     "execution_count": 58,
     "metadata": {},
     "output_type": "execute_result"
    }
   ],
   "source": [
    "lm.list_copy_operations()"
   ]
  },
  {
   "cell_type": "markdown",
   "id": "5855ec8d",
   "metadata": {},
   "source": [
    "Manually trigger a copy operation (this will be called atexit too)"
   ]
  },
  {
   "cell_type": "code",
   "execution_count": 60,
   "id": "d208e773",
   "metadata": {},
   "outputs": [
    {
     "name": "stdout",
     "output_type": "stream",
     "text": [
      "No active copy operations to trigger.\n"
     ]
    }
   ],
   "source": [
    "# this will trigger a copy for all current active copy operations\n",
    "lm.trigger_copy_now()"
   ]
  },
  {
   "cell_type": "code",
   "execution_count": null,
   "id": "647d5c24",
   "metadata": {},
   "outputs": [],
   "source": [
    "# this will trigger a  copy operation only for the list of specific copy operations\n",
    "lm.trigger_copy_now(copy_names=[\"test_copy_preserve\"])\n",
    "# lm.trigger_copy_now(copy_names=[\"test_copy\", \"test_copy_preserve\"])"
   ]
  },
  {
   "cell_type": "markdown",
   "id": "49d47ca9",
   "metadata": {},
   "source": [
    "#### Stop copy"
   ]
  },
  {
   "cell_type": "code",
   "execution_count": null,
   "id": "415c41f5",
   "metadata": {},
   "outputs": [],
   "source": [
    "# stop a specific operation\n",
    "lm.stop_copy(copy_name=\"test_copy_preserve\")"
   ]
  },
  {
   "cell_type": "code",
   "execution_count": null,
   "id": "cd975a30",
   "metadata": {},
   "outputs": [],
   "source": [
    "root_dir = \"./logs\"\n",
    "\n",
    "lm.start_copy(\n",
    "    copy_name = \"test_copy_preserved\",\n",
    "    path_patterns=[f\"{root_dir}/**\"],\n",
    "    copy_destination=\"./logs_copied_preserved\",\n",
    "    root_dir=root_dir,\n",
    "    copy_interval=5,\n",
    "    create_dest_dirs=True,\n",
    "    preserve_structure=True,\n",
    "    max_retries=3,\n",
    "    retry_delay=5,\n",
    ")"
   ]
  },
  {
   "cell_type": "code",
   "execution_count": null,
   "id": "8afa1f76",
   "metadata": {},
   "outputs": [],
   "source": [
    "# stop all existing copy operations\n",
    "lm.stop_all_copy()"
   ]
  },
  {
   "cell_type": "markdown",
   "id": "07995786",
   "metadata": {},
   "source": [
    "### Start copy operations from config file"
   ]
  },
  {
   "cell_type": "code",
   "execution_count": 40,
   "id": "6545259a",
   "metadata": {},
   "outputs": [
    {
     "name": "stdout",
     "output_type": "stream",
     "text": [
      "Copy enabled (default behavior)\n",
      "Signal handlers registered\n"
     ]
    }
   ],
   "source": [
    "config_file = \"./logger_config.yaml\"\n",
    "lm = LogManager(config_file)"
   ]
  },
  {
   "cell_type": "code",
   "execution_count": 41,
   "id": "5767593f",
   "metadata": {},
   "outputs": [],
   "source": [
    "lm.add_handler(\n",
    "    \"handler_file_2\",\n",
    "    {\n",
    "        \"sink\": \"./logs/subfolder/test2.log\",\n",
    "        \"format\": \"simple\",\n",
    "        \"level\": \"debug\"\n",
    "    }\n",
    ")"
   ]
  },
  {
   "cell_type": "code",
   "execution_count": 42,
   "id": "881882f8",
   "metadata": {},
   "outputs": [],
   "source": [
    "lm.add_logger(\"logger_c\", [{\"handler\": \"handler_file_2\", \"level\": \"INFO\"}])"
   ]
  },
  {
   "cell_type": "code",
   "execution_count": 43,
   "id": "1742cec9",
   "metadata": {},
   "outputs": [],
   "source": [
    "logger_A = lm.get_logger(\"logger_a\")\n",
    "logger_B = lm.get_logger(\"logger_b\")\n",
    "logger_C = lm.get_logger(\"logger_c\")"
   ]
  },
  {
   "cell_type": "code",
   "execution_count": 44,
   "id": "3d1a9279",
   "metadata": {},
   "outputs": [
    {
     "name": "stdout",
     "output_type": "stream",
     "text": [
      " \u001b[32m2025-09-03 21:58:41\u001b[0m | \u001b[41m\u001b[1mCRITICAL\u001b[0m | \u001b[31mlogger_a\u001b[0m | \u001b[36m429296937.py     | <module>\u001b[0m : 1 - \u001b[37mtest logger A\u001b[0m\n",
      " \u001b[32m2025-09-03 21:58:41\u001b[0m | \u001b[41m\u001b[1mCRITICAL\u001b[0m | \u001b[31mlogger_b\u001b[0m | \u001b[36m429296937.py     | <module>\u001b[0m : 2 - \u001b[37mtest logger B\u001b[0m\n"
     ]
    }
   ],
   "source": [
    "logger_A.critical(\"test logger A\")\n",
    "logger_B.critical(\"test logger B\")\n",
    "logger_C.critical(\"test logger C\")"
   ]
  },
  {
   "cell_type": "code",
   "execution_count": null,
   "id": "8a8f6091",
   "metadata": {},
   "outputs": [
    {
     "name": "stdout",
     "output_type": "stream",
     "text": [
      "No copy_config provided, reading from config path.\n",
      "Copy worker 'test_copy_1' started.\n",
      "Started copy operation 'test_copy_1' with 5s interval.\n",
      "\n",
      "Copy worker 'test_copy_2' started.\n",
      "Started copy operation 'test_copy_2' with 5s interval.\n",
      "\n",
      "Copy 'test_copy_2' found 1 files to copy.\n",
      "Copy 'test_copy_1' found 2 files to copy.\n",
      "Successfully copied ./logs/test.log -> ./logs_copy_2/test.log\n",
      "Copy completed: 1 successful, 0 failed\n"
     ]
    },
    {
     "name": "stdout",
     "output_type": "stream",
     "text": [
      "Successfully copied ./logs\\test.log -> ./logs_copy_1/test.log\n",
      "Successfully copied ./logs\\subfolder\\test2.log -> ./logs_copy_1/subfolder/test2.log\n",
      "Copy completed: 2 successful, 0 failed\n",
      "Copy worker 'test_copy_1' stopped\n",
      "Copy worker 'test_copy_2' stopped\n"
     ]
    }
   ],
   "source": [
    "lm.start_copy_from_config()"
   ]
  },
  {
   "cell_type": "code",
   "execution_count": 46,
   "id": "e8c0a498",
   "metadata": {},
   "outputs": [
    {
     "name": "stdout",
     "output_type": "stream",
     "text": [
      "Stopped copy operation 'test_copy_1'\n",
      "Stopped copy operation 'test_copy_2'\n"
     ]
    },
    {
     "data": {
      "text/plain": [
       "[]"
      ]
     },
     "execution_count": 46,
     "metadata": {},
     "output_type": "execute_result"
    }
   ],
   "source": [
    "lm.stop_all_copy()"
   ]
  },
  {
   "cell_type": "markdown",
   "id": "e3769a19",
   "metadata": {},
   "source": [
    "### Coordinator"
   ]
  },
  {
   "cell_type": "code",
   "execution_count": 61,
   "id": "b1e3bf1b",
   "metadata": {},
   "outputs": [
    {
     "data": {
      "text/plain": [
       "True"
      ]
     },
     "execution_count": 61,
     "metadata": {},
     "output_type": "execute_result"
    }
   ],
   "source": [
    "# check if copy is enabled\n",
    "lm.copy_enabled"
   ]
  },
  {
   "cell_type": "code",
   "execution_count": 62,
   "id": "d20b3aee",
   "metadata": {},
   "outputs": [
    {
     "data": {
      "text/plain": [
       "{'copy_enabled': True,\n",
       " 'reason': 'Default behavior (enabled)',\n",
       " 'environment_variable': {'DISABLE_COPY': ''}}"
      ]
     },
     "execution_count": 62,
     "metadata": {},
     "output_type": "execute_result"
    }
   ],
   "source": [
    "# get copy status and environment information\n",
    "lm.get_copy_status()"
   ]
  },
  {
   "cell_type": "markdown",
   "id": "78477532",
   "metadata": {},
   "source": [
    "Set `DISABLE_COPY=TRUE` to disable copying\n",
    "\n",
    "This variable is read only during instantiation of the LogManager\n",
    "\n",
    "Changes to this variable after LogManager instantiation will not be registered"
   ]
  },
  {
   "cell_type": "code",
   "execution_count": 63,
   "id": "c5ab3280",
   "metadata": {},
   "outputs": [
    {
     "name": "stdout",
     "output_type": "stream",
     "text": [
      "Copy disabled via DISABLE_COPY environment variable\n",
      "Config file not provided, initializing logger with class default config.\n",
      "Signal handlers registered\n"
     ]
    }
   ],
   "source": [
    "import os\n",
    "os.environ[\"DISABLE_COPY\"] = \"TRUE\"\n",
    "lm = LogManager()"
   ]
  },
  {
   "cell_type": "code",
   "execution_count": 64,
   "id": "382c36b4",
   "metadata": {},
   "outputs": [
    {
     "data": {
      "text/plain": [
       "False"
      ]
     },
     "execution_count": 64,
     "metadata": {},
     "output_type": "execute_result"
    }
   ],
   "source": [
    "lm.copy_enabled"
   ]
  },
  {
   "cell_type": "code",
   "execution_count": 65,
   "id": "53bef666",
   "metadata": {},
   "outputs": [
    {
     "data": {
      "text/plain": [
       "{'copy_enabled': False,\n",
       " 'reason': 'DISABLE_COPY=true',\n",
       " 'environment_variable': {'DISABLE_COPY': 'TRUE'}}"
      ]
     },
     "execution_count": 65,
     "metadata": {},
     "output_type": "execute_result"
    }
   ],
   "source": [
    "lm.get_copy_status()"
   ]
  },
  {
   "cell_type": "code",
   "execution_count": null,
   "id": "626a6e84",
   "metadata": {},
   "outputs": [],
   "source": []
  }
 ],
 "metadata": {
  "kernelspec": {
   "display_name": ".venv",
   "language": "python",
   "name": "python3"
  },
  "language_info": {
   "codemirror_mode": {
    "name": "ipython",
    "version": 3
   },
   "file_extension": ".py",
   "mimetype": "text/x-python",
   "name": "python",
   "nbconvert_exporter": "python",
   "pygments_lexer": "ipython3",
   "version": "3.13.1"
  }
 },
 "nbformat": 4,
 "nbformat_minor": 5
}
