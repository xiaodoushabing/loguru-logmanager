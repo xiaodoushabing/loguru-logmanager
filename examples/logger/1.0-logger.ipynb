{
 "cells": [
  {
   "cell_type": "code",
   "execution_count": 1,
   "id": "1c3247f9",
   "metadata": {},
   "outputs": [],
   "source": [
    "%load_ext autoreload\n",
    "%autoreload 2"
   ]
  },
  {
   "cell_type": "code",
   "execution_count": 2,
   "id": "8aae186b",
   "metadata": {},
   "outputs": [],
   "source": [
    "from loguru import logger\n",
    "from utilities import LogManager"
   ]
  },
  {
   "cell_type": "markdown",
   "id": "74101c78",
   "metadata": {},
   "source": [
    "### Using config.yaml"
   ]
  },
  {
   "cell_type": "code",
   "execution_count": 6,
   "id": "2b2489c4",
   "metadata": {},
   "outputs": [
    {
     "name": "stdout",
     "output_type": "stream",
     "text": [
      "Copy enabled (default behavior)\n",
      "Signal handlers registered\n"
     ]
    }
   ],
   "source": [
    "config_file = \"./logger_config.yaml\"\n",
    "lm = LogManager(config_file)"
   ]
  },
  {
   "cell_type": "markdown",
   "id": "55ea7c98",
   "metadata": {},
   "source": [
    "Get Loggers"
   ]
  },
  {
   "cell_type": "code",
   "execution_count": 7,
   "id": "146c3849",
   "metadata": {},
   "outputs": [],
   "source": [
    "logger_A = lm.get_logger(\"logger_a\")\n",
    "logger_B = lm.get_logger(\"logger_b\")"
   ]
  },
  {
   "cell_type": "code",
   "execution_count": 8,
   "id": "1194fde9",
   "metadata": {},
   "outputs": [
    {
     "name": "stdout",
     "output_type": "stream",
     "text": [
      " \u001b[32m2025-09-03 21:34:09\u001b[0m | \u001b[1mINFO    \u001b[0m | \u001b[31mlogger_a\u001b[0m | \u001b[36m3623765976.py    | <module>\u001b[0m : 2 - \u001b[37mshould only appear in console\u001b[0m\n",
      " \u001b[32m2025-09-03 21:34:09\u001b[0m | \u001b[41m\u001b[1mCRITICAL\u001b[0m | \u001b[31mlogger_a\u001b[0m | \u001b[36m3623765976.py    | <module>\u001b[0m : 3 - \u001b[37mshould appear in both console and file\u001b[0m\n",
      " \u001b[32m2025-09-03 21:34:09\u001b[0m | \u001b[41m\u001b[1mCRITICAL\u001b[0m | \u001b[31mlogger_b\u001b[0m | \u001b[36m3623765976.py    | <module>\u001b[0m : 5 - \u001b[37mshould also appear in console, but for another task\u001b[0m\n"
     ]
    }
   ],
   "source": [
    "# Example use\n",
    "logger_A.info(\"should only appear in console\")\n",
    "logger_A.critical(\"should appear in both console and file\")\n",
    "logger_B.debug(\"this should not appear since level for handler_console config is set to INFO\")\n",
    "logger_B.critical(\"should also appear in console, but for another task\")"
   ]
  },
  {
   "cell_type": "markdown",
   "id": "c6fb86ef",
   "metadata": {},
   "source": [
    "Assertion error is raised if an undefined logger is called."
   ]
  },
  {
   "cell_type": "code",
   "execution_count": null,
   "id": "1609f27d",
   "metadata": {},
   "outputs": [],
   "source": [
    "logger_c = lm.get_logger(\"logger_c\")  # this should raise an assertion error, logger does not exist"
   ]
  },
  {
   "cell_type": "markdown",
   "id": "db843de6",
   "metadata": {},
   "source": [
    "Add new handler and logger"
   ]
  },
  {
   "cell_type": "markdown",
   "id": "fd0cd03f",
   "metadata": {},
   "source": [
    "The following format (simple) is accepted as long as it's defined in config file under 'formats'"
   ]
  },
  {
   "cell_type": "code",
   "execution_count": 10,
   "id": "39c0b33f",
   "metadata": {},
   "outputs": [],
   "source": [
    "lm.add_handler(\n",
    "    \"handler_console_simple\",\n",
    "    {\n",
    "        \"sink\": \"sys.stdout\",\n",
    "        \"format\": \"simple\",\n",
    "        \"level\": \"info\"\n",
    "    }\n",
    ")"
   ]
  },
  {
   "cell_type": "markdown",
   "id": "2eec3662",
   "metadata": {},
   "source": [
    "Note that error will not be raised if format is not found in the config; only warning will be shown."
   ]
  },
  {
   "cell_type": "code",
   "execution_count": 11,
   "id": "f7ebc7e2",
   "metadata": {},
   "outputs": [
    {
     "name": "stdout",
     "output_type": "stream",
     "text": [
      " ⚠️ The format referenced by handler 'handler_xxx' is not defined in the 'formats' section of the config file. Using the format as is: \n",
      "\t simpleeee \n",
      "\n"
     ]
    }
   ],
   "source": [
    "lm.add_handler(\n",
    "    \"handler_xxx\",\n",
    "    {\n",
    "        \"sink\": \"sys.stdout\",\n",
    "        \"format\": \"simpleeee\",\n",
    "        \"level\": \"info\"\n",
    "    }\n",
    ")"
   ]
  },
  {
   "cell_type": "markdown",
   "id": "9ebe055d",
   "metadata": {},
   "source": [
    "Because it may be a valid custom format:"
   ]
  },
  {
   "cell_type": "code",
   "execution_count": 12,
   "id": "79fa8d3f",
   "metadata": {},
   "outputs": [
    {
     "name": "stdout",
     "output_type": "stream",
     "text": [
      " ⚠️ The format referenced by handler 'handler_console_fire' is not defined in the 'formats' section of the config file. Using the format as is: \n",
      "\t 🔥{time:YYYY-MM-DD HH:mm:ss} | {level: <8} | {extra[logger_name]} | {file: <16} | {function} : {line} - {message} \n",
      "\n"
     ]
    }
   ],
   "source": [
    "lm.add_handler(\n",
    "    \"handler_console_fire\",\n",
    "    {\n",
    "        \"sink\": \"sys.stdout\",\n",
    "        \"format\": \"🔥{time:YYYY-MM-DD HH:mm:ss} | {level: <8} | {extra[logger_name]} | {file: <16} | {function} : {line} - {message}\",\n",
    "        \"level\": \"info\",\n",
    "    }\n",
    ")"
   ]
  },
  {
   "cell_type": "code",
   "execution_count": 13,
   "id": "0997078b",
   "metadata": {},
   "outputs": [],
   "source": [
    "lm.add_logger(\"logger_c\", [{\"handler\": \"handler_console_fire\", \"level\": \"DEBUG\"}])"
   ]
  },
  {
   "cell_type": "code",
   "execution_count": 14,
   "id": "3f557312",
   "metadata": {},
   "outputs": [
    {
     "name": "stdout",
     "output_type": "stream",
     "text": [
      "🔥2025-09-03 21:39:50 | INFO     | logger_c | 2748549182.py    | <module> : 6 - this should print\n",
      "🔥2025-09-03 21:39:50 | ERROR    | logger_c | 2748549182.py    | <module> : 7 - this should print too\n"
     ]
    }
   ],
   "source": [
    "logger_C = lm.get_logger(\"logger_c\")\n",
    "# Note: the effective logging level is the higher of the handler's and logger's levels.\n",
    "# Therefore, DEBUG messages will not be logged because the handler's level is set to INFO.\n",
    "\n",
    "logger_C.debug(\"this should not print since handler_console_fire is set to INFO\")  # Will not be logged\n",
    "logger_C.info(\"this should print\")   # Will be logged\n",
    "logger_C.error(\"this should print too\")"
   ]
  },
  {
   "cell_type": "markdown",
   "id": "fdcf5995",
   "metadata": {},
   "source": [
    "Update handler"
   ]
  },
  {
   "cell_type": "code",
   "execution_count": 15,
   "id": "4ca8e7c6",
   "metadata": {},
   "outputs": [
    {
     "name": "stdout",
     "output_type": "stream",
     "text": [
      " ⚠️ The format referenced by handler 'handler_console_fire' is not defined in the 'formats' section of the config file. Using the format as is: \n",
      "\t 🧯{time:YYYY-MM-DD HH:mm:ss} | {level: <8} | {extra[logger_name]} | {file: <16} | {function} : {line} - {message} \n",
      "\n"
     ]
    }
   ],
   "source": [
    "lm.update_handler(\n",
    "    \"handler_console_fire\",\n",
    "    {\n",
    "        \"sink\": \"sys.stdout\",\n",
    "        \"format\": \"🧯{time:YYYY-MM-DD HH:mm:ss} | {level: <8} | {extra[logger_name]} | {file: <16} | {function} : {line} - {message}\",\n",
    "        \"level\": \"debug\",\n",
    "    }\n",
    ")"
   ]
  },
  {
   "cell_type": "code",
   "execution_count": 16,
   "id": "ee08c000",
   "metadata": {},
   "outputs": [
    {
     "name": "stdout",
     "output_type": "stream",
     "text": [
      "🧯2025-09-03 21:41:01 | DEBUG    | logger_c | 1071904596.py    | <module> : 1 - this should print now since handler and logger config is set to DEBUG\n",
      "🧯2025-09-03 21:41:01 | INFO     | logger_c | 1071904596.py    | <module> : 2 - this should print\n",
      "🧯2025-09-03 21:41:01 | ERROR    | logger_c | 1071904596.py    | <module> : 3 - this should print too\n"
     ]
    }
   ],
   "source": [
    "logger_C.debug(\"this should print now since handler and logger config is set to DEBUG\")  # Will be logged\n",
    "logger_C.info(\"this should print\")\n",
    "logger_C.error(\"this should print too\")"
   ]
  },
  {
   "cell_type": "markdown",
   "id": "05997f66",
   "metadata": {},
   "source": [
    "Update logger"
   ]
  },
  {
   "cell_type": "code",
   "execution_count": 18,
   "id": "7ab4e828",
   "metadata": {},
   "outputs": [],
   "source": [
    "lm.update_logger(\"logger_c\", [{\"handler\": \"handler_console_fire\", \"level\": \"ERROR\"}, {\"handler\": \"handler_console\", \"level\": \"ERROR\"}])"
   ]
  },
  {
   "cell_type": "code",
   "execution_count": 19,
   "id": "ec4d98cf",
   "metadata": {},
   "outputs": [
    {
     "name": "stdout",
     "output_type": "stream",
     "text": [
      " \u001b[32m2025-09-03 21:42:38\u001b[0m | \u001b[31m\u001b[1mERROR   \u001b[0m | \u001b[31mlogger_c\u001b[0m | \u001b[36m3130521273.py    | <module>\u001b[0m : 2 - \u001b[37mthis should print twice for logger_c, 1 for handler_console_fire and the other from newly added handler_console\u001b[0m\n",
      "🧯2025-09-03 21:42:38 | ERROR    | logger_c | 3130521273.py    | <module> : 2 - this should print twice for logger_c, 1 for handler_console_fire and the other from newly added handler_console\n"
     ]
    }
   ],
   "source": [
    "logger_C.debug(\"this should print since both logger config is set to ERROR\")\n",
    "logger_C.error(\"this should print twice for logger_c, 1 for handler_console_fire and the other from newly added handler_console\")"
   ]
  },
  {
   "cell_type": "markdown",
   "id": "149e5588",
   "metadata": {},
   "source": [
    "Remove logger"
   ]
  },
  {
   "cell_type": "code",
   "execution_count": 20,
   "id": "c08908f3",
   "metadata": {},
   "outputs": [
    {
     "name": "stdout",
     "output_type": "stream",
     "text": [
      " \u001b[32m2025-09-03 21:43:46\u001b[0m | \u001b[1mINFO    \u001b[0m | \u001b[31mlogger_a\u001b[0m | \u001b[36m2861226126.py    | <module>\u001b[0m : 5 - \u001b[37monly this should appear on the console\u001b[0m\n"
     ]
    }
   ],
   "source": [
    "lm.remove_logger(\"logger_c\")\n",
    "logger_C.debug(\"this should NOT appear on the console\")\n",
    "logger_C.info(\"this should NOT appear on the console\")\n",
    "logger_C.error(\"this should NOT appear on the console\")\n",
    "logger_A.info(\"only this should appear on the console\")"
   ]
  },
  {
   "cell_type": "markdown",
   "id": "01564da1",
   "metadata": {},
   "source": [
    "Remove handler"
   ]
  },
  {
   "cell_type": "code",
   "execution_count": 21,
   "id": "ddfe1cf5",
   "metadata": {},
   "outputs": [],
   "source": [
    "lm.remove_handler(\"handler_console\")\n",
    "logger_A.debug(\"this should NOT appear on the FILE.\")\n",
    "logger_A.info(\"this should NOT appear on the FILE.\")\n",
    "logger_A.error(\"this should appear on the FILE.\")"
   ]
  },
  {
   "cell_type": "markdown",
   "id": "07995786",
   "metadata": {},
   "source": [
    "### Start copy operations from config file"
   ]
  },
  {
   "cell_type": "code",
   "execution_count": 22,
   "id": "6545259a",
   "metadata": {},
   "outputs": [
    {
     "name": "stdout",
     "output_type": "stream",
     "text": [
      "Copy enabled (default behavior)\n",
      "Signal handlers registered\n"
     ]
    }
   ],
   "source": [
    "config_file = \"./logger_config.yaml\"\n",
    "lm = LogManager(config_file)"
   ]
  },
  {
   "cell_type": "code",
   "execution_count": 23,
   "id": "5767593f",
   "metadata": {},
   "outputs": [],
   "source": [
    "lm.add_handler(\n",
    "    \"handler_file_2\",\n",
    "    {\n",
    "        \"sink\": \"./logs/subfolder/test2.log\",\n",
    "        \"format\": \"simple\",\n",
    "        \"level\": \"debug\"\n",
    "    }\n",
    ")"
   ]
  },
  {
   "cell_type": "code",
   "execution_count": 24,
   "id": "881882f8",
   "metadata": {},
   "outputs": [],
   "source": [
    "lm.add_logger(\"logger_c\", [{\"handler\": \"handler_file_2\", \"level\": \"INFO\"}])"
   ]
  },
  {
   "cell_type": "code",
   "execution_count": 25,
   "id": "1742cec9",
   "metadata": {},
   "outputs": [],
   "source": [
    "logger_A = lm.get_logger(\"logger_a\")\n",
    "logger_B = lm.get_logger(\"logger_b\")\n",
    "logger_C = lm.get_logger(\"logger_c\")"
   ]
  },
  {
   "cell_type": "code",
   "execution_count": null,
   "id": "3d1a9279",
   "metadata": {},
   "outputs": [],
   "source": [
    "logger_A.critical(\"test logger A\")\n",
    "logger_B.critical(\"test logger B\")\n",
    "logger_C.critical(\"test logger C\")"
   ]
  }
 ],
 "metadata": {
  "kernelspec": {
   "display_name": ".venv",
   "language": "python",
   "name": "python3"
  },
  "language_info": {
   "codemirror_mode": {
    "name": "ipython",
    "version": 3
   },
   "file_extension": ".py",
   "mimetype": "text/x-python",
   "name": "python",
   "nbconvert_exporter": "python",
   "pygments_lexer": "ipython3",
   "version": "3.13.1"
  }
 },
 "nbformat": 4,
 "nbformat_minor": 5
}
